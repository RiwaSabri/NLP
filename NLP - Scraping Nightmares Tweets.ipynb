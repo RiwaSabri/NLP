{
 "cells": [
  {
   "cell_type": "code",
   "execution_count": 48,
   "id": "3037f67d",
   "metadata": {},
   "outputs": [
    {
     "data": {
      "text/plain": [
       "0"
      ]
     },
     "execution_count": 48,
     "metadata": {},
     "output_type": "execute_result"
    }
   ],
   "source": [
    "import pickle\n",
    "import os\n",
    "import pandas as pd\n",
    "\n",
    "# Setting variables to be used in format string command below\n",
    "#tweet_count = 500\n",
    "text_query = \"i had a nightmare about\"\n",
    "since_date = \"2020-08-04\"\n",
    "until_date = \"2020-12-04\"\n",
    "\n",
    "# Using OS library to call CLI commands in Python\n",
    "os.system('snscrape --jsonl --since {} twitter-search \"{} until:{}\"> nightmare.json'\n",
    "          .format(since_date, text_query, until_date))"
   ]
  },
  {
   "cell_type": "code",
   "execution_count": 49,
   "id": "87689034",
   "metadata": {},
   "outputs": [],
   "source": [
    "df = pd.read_json('nightmare.json', lines = True)"
   ]
  },
  {
   "cell_type": "code",
   "execution_count": 50,
   "id": "372fb014",
   "metadata": {},
   "outputs": [
    {
     "name": "stdout",
     "output_type": "stream",
     "text": [
      "<class 'pandas.core.frame.DataFrame'>\n",
      "RangeIndex: 6168 entries, 0 to 6167\n",
      "Data columns (total 28 columns):\n",
      " #   Column            Non-Null Count  Dtype              \n",
      "---  ------            --------------  -----              \n",
      " 0   _type             6168 non-null   object             \n",
      " 1   url               6168 non-null   object             \n",
      " 2   date              6168 non-null   datetime64[ns, UTC]\n",
      " 3   content           6168 non-null   object             \n",
      " 4   renderedContent   6168 non-null   object             \n",
      " 5   id                6168 non-null   int64              \n",
      " 6   user              6168 non-null   object             \n",
      " 7   replyCount        6168 non-null   int64              \n",
      " 8   retweetCount      6168 non-null   int64              \n",
      " 9   likeCount         6168 non-null   int64              \n",
      " 10  quoteCount        6168 non-null   int64              \n",
      " 11  conversationId    6168 non-null   int64              \n",
      " 12  lang              6168 non-null   object             \n",
      " 13  source            6168 non-null   object             \n",
      " 14  sourceUrl         6168 non-null   object             \n",
      " 15  sourceLabel       6168 non-null   object             \n",
      " 16  outlinks          329 non-null    object             \n",
      " 17  tcooutlinks       329 non-null    object             \n",
      " 18  media             361 non-null    object             \n",
      " 19  retweetedTweet    0 non-null      float64            \n",
      " 20  quotedTweet       246 non-null    object             \n",
      " 21  inReplyToTweetId  1680 non-null   float64            \n",
      " 22  inReplyToUser     1680 non-null   object             \n",
      " 23  mentionedUsers    1548 non-null   object             \n",
      " 24  coordinates       152 non-null    object             \n",
      " 25  place             152 non-null    object             \n",
      " 26  hashtags          205 non-null    object             \n",
      " 27  cashtags          1 non-null      object             \n",
      "dtypes: datetime64[ns, UTC](1), float64(2), int64(6), object(19)\n",
      "memory usage: 1.3+ MB\n"
     ]
    }
   ],
   "source": [
    "df.info()"
   ]
  },
  {
   "cell_type": "code",
   "execution_count": 51,
   "id": "155ca905",
   "metadata": {},
   "outputs": [],
   "source": [
    "with open('nightmares_tweets.pickle', 'wb') as handle:\n",
    "    pickle.dump(df, handle, protocol=pickle.HIGHEST_PROTOCOL)"
   ]
  },
  {
   "cell_type": "code",
   "execution_count": 52,
   "id": "2e302ac7",
   "metadata": {},
   "outputs": [
    {
     "ename": "ModuleNotFoundError",
     "evalue": "No module named 'autocorrect'",
     "output_type": "error",
     "traceback": [
      "\u001b[0;31m---------------------------------------------------------------------------\u001b[0m",
      "\u001b[0;31mModuleNotFoundError\u001b[0m                       Traceback (most recent call last)",
      "\u001b[0;32m/var/folders/vf/gt_dvr9s3kdby4xdz6klhvq40000gn/T/ipykernel_6195/122322511.py\u001b[0m in \u001b[0;36m<module>\u001b[0;34m\u001b[0m\n\u001b[0;32m----> 1\u001b[0;31m \u001b[0;32mfrom\u001b[0m \u001b[0mautocorrect\u001b[0m \u001b[0;32mimport\u001b[0m \u001b[0mSpeller\u001b[0m\u001b[0;34m\u001b[0m\u001b[0;34m\u001b[0m\u001b[0m\n\u001b[0m\u001b[1;32m      2\u001b[0m \u001b[0;34m\u001b[0m\u001b[0m\n\u001b[1;32m      3\u001b[0m \u001b[0mspell\u001b[0m \u001b[0;34m=\u001b[0m \u001b[0mSpeller\u001b[0m\u001b[0;34m(\u001b[0m\u001b[0mlang\u001b[0m\u001b[0;34m=\u001b[0m\u001b[0;34m'en'\u001b[0m\u001b[0;34m)\u001b[0m\u001b[0;34m\u001b[0m\u001b[0;34m\u001b[0m\u001b[0m\n\u001b[1;32m      4\u001b[0m \u001b[0;34m\u001b[0m\u001b[0m\n\u001b[1;32m      5\u001b[0m \u001b[0mprint\u001b[0m\u001b[0;34m(\u001b[0m\u001b[0mspell\u001b[0m\u001b[0;34m(\u001b[0m\u001b[0;34m'caaaar'\u001b[0m\u001b[0;34m)\u001b[0m\u001b[0;34m)\u001b[0m\u001b[0;34m\u001b[0m\u001b[0;34m\u001b[0m\u001b[0m\n",
      "\u001b[0;31mModuleNotFoundError\u001b[0m: No module named 'autocorrect'"
     ]
    }
   ],
   "source": []
  },
  {
   "cell_type": "code",
   "execution_count": null,
   "id": "a888f5db",
   "metadata": {},
   "outputs": [],
   "source": []
  }
 ],
 "metadata": {
  "kernelspec": {
   "display_name": "Python 3 (classification)",
   "language": "python",
   "name": "classification"
  },
  "language_info": {
   "codemirror_mode": {
    "name": "ipython",
    "version": 3
   },
   "file_extension": ".py",
   "mimetype": "text/x-python",
   "name": "python",
   "nbconvert_exporter": "python",
   "pygments_lexer": "ipython3",
   "version": "3.9.7"
  }
 },
 "nbformat": 4,
 "nbformat_minor": 5
}
